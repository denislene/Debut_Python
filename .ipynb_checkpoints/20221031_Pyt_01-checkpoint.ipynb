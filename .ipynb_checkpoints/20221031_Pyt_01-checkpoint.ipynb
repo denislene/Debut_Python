{
 "cells": [
  {
   "cell_type": "code",
   "execution_count": null,
   "id": "f53c35eb",
   "metadata": {},
   "outputs": [],
   "source": []
  },
  {
   "cell_type": "code",
   "execution_count": 17,
   "id": "06258300",
   "metadata": {},
   "outputs": [
    {
     "name": "stdout",
     "output_type": "stream",
     "text": [
      "O funcionário 1 ganhou 100.0 de bônus\n",
      "O funcionário 2 ganhou 0 de bônus\n",
      "O funcionário 3 ganhou 405.0 de bônus\n"
     ]
    }
   ],
   "source": [
    "#CÁLCULO DE BÔNUS\n",
    "\n",
    "vendas_funcionario1 = 1000\n",
    "vendas_funcionario2 = 770\n",
    "vendas_funcionario3 = 2700\n",
    "\n",
    "if vendas_funcionario1 >= 1000:\n",
    "    if vendas_funcionario1 >= 2000:\n",
    "        bonus=0.15*vendas_funcionario1\n",
    "    else:\n",
    "        bonus=vendas_funcionario1*0.1\n",
    "else:\n",
    "    bonus=0\n",
    "print(\"O funcionário 1 ganhou {} de bônus\".format(bonus))\n",
    "\n",
    "if vendas_funcionario2 >= 1000:\n",
    "    if vendas_funcionario2 >= 2000:\n",
    "        bonus=0.15*vendas_funcionario2\n",
    "    else:\n",
    "        bonus=vendas_funcionario2*0.1\n",
    "else:\n",
    "    bonus=0\n",
    "print(\"O funcionário 2 ganhou {} de bônus\".format(bonus))\n",
    "\n",
    "#pode ser feito de outra forma\n",
    "\n",
    "if vendas_funcionario3 >= 2000:\n",
    "    bonus=0.15*vendas_funcionario3\n",
    "elif vendas_funcionario3 >= 1000:\n",
    "    bonus=0.1*vendas_funcionario3\n",
    "else:\n",
    "    bonus=0\n",
    "print(\"O funcionário 3 ganhou {} de bônus\".format(bonus))\n",
    "      "
   ]
  },
  {
   "cell_type": "code",
   "execution_count": 8,
   "id": "c09d2a53",
   "metadata": {
    "scrolled": true
   },
   "outputs": [
    {
     "name": "stdout",
     "output_type": "stream",
     "text": [
      "Qual o produto? suco\n",
      "Qual a categoria do produto? bebidas\n",
      "Qual a quantidade do produto? 12\n",
      "Solicitar suco à equipe de compras, temos apenas 12 unidades em estoque.\n"
     ]
    }
   ],
   "source": [
    "#CONTROLE DE ESTOQUE\n",
    "\n",
    "produto=input(\"Qual o produto? \")\n",
    "categoria=input(\"Qual a categoria do produto? \")\n",
    "qtde=input(\"Qual a quantidade do produto? \")\n",
    "\n",
    "if produto and categoria and qtde:\n",
    "    qtde = int(qtde)\n",
    "    if categoria == \"bebidas\":\n",
    "        if qtde < 75:\n",
    "            print(\"Solicitar {} à equipe de compras, temos apenas {} unidades em estoque.\".format(produto, qtde))\n",
    "        else:\n",
    "            print(\"Quantidade suficiente do produto em estoque.\")\n",
    "    elif categoria == \"limpeza\":\n",
    "        if qtde < 30:\n",
    "            print(\"Solicitar {} à equipe de compras, temos apenas {} unidades em estoque.\".format(produto, qtde))\n",
    "        else:\n",
    "            print(\"Quantidade suficiente do produto em estoque.\")\n",
    "    elif categoria == \"alimentos\":\n",
    "        if qtde < 50:\n",
    "            print(\"Solicitar {} à equipe de compras, temos apenas {} unidades em estoque.\".format(produto, qtde))\n",
    "        else:\n",
    "            print(\"Quantidade suficiente do produto em estoque.\")\n",
    "else:\n",
    "    print(\"Preencha todas as informações\")\n"
   ]
  },
  {
   "cell_type": "code",
   "execution_count": 9,
   "id": "30d6b456",
   "metadata": {},
   "outputs": [
    {
     "name": "stdout",
     "output_type": "stream",
     "text": [
      "Digite seu CPF.  012.012.012-00 \n",
      "01201201200\n"
     ]
    }
   ],
   "source": [
    "#CADASTRO DE CPF\n",
    "\n",
    "cpf=input(\"Digite seu CPF. \")\n",
    "\n",
    "cpf = cpf.strip()  #tirar espaços no início e no fim\n",
    "cpf = cpf.replace(\".\",\"\")  #tirar os pontos\n",
    "cpf = cpf.replace(\"-\",\"\")  #tirar os traços\n",
    "\n",
    "if len(cpf)==11 and cpf.isnumeric():\n",
    "    print(cpf)\n",
    "else:\n",
    "    print(\"Digite seu CPF corretamente. Digite apenas números\")"
   ]
  },
  {
   "cell_type": "code",
   "execution_count": 2,
   "id": "379d025c",
   "metadata": {},
   "outputs": [
    {
     "name": "stdout",
     "output_type": "stream",
     "text": [
      "Digite seu nome: Denislene\n",
      "Digite seu e-mail: denislene.mtl@gmail.com\n",
      "Cadastro concluído\n"
     ]
    }
   ],
   "source": [
    "#CADASTRO DE E-MAIL\n",
    "\n",
    "nome=input(\"Digite seu nome: \")\n",
    "email=input(\"Digite seu e-mail: \")\n",
    "\n",
    "if nome and email:\n",
    "    pos_a = email.find(\"@\")\n",
    "    servidor = email[pos_a:]\n",
    "    if pos_a != -1 and \".\" in servidor:\n",
    "        print(\"Cadastro concluído\")\n",
    "    else:\n",
    "        print(\"E-mail inválido\")\n",
    "else:\n",
    "    print(\"Digite seu nome e seu e-mail corretamente.\")"
   ]
  },
  {
   "cell_type": "code",
   "execution_count": 7,
   "id": "b46bad1c",
   "metadata": {},
   "outputs": [
    {
     "name": "stdout",
     "output_type": "stream",
     "text": [
      "Insra o nome do produto em letra minúscula: teclado\n",
      "Temos 70 unidades de teclado no estoque\n"
     ]
    }
   ],
   "source": [
    "#VERIFICANDO ITEM EM UMA LISTA\n",
    "\n",
    "produtos = [\"tv\",\"celular\",\"tablet\",\"mouse\",\"teclado\",\"geladeira\",\"forno\"]\n",
    "estoque = [100, 150, 100, 120, 70, 180, 80]\n",
    "\n",
    "produto = input(\"Insra o nome do produto em letra minúscula: \")\n",
    "if produto in produtos:\n",
    "    i = produtos.index(produto)\n",
    "    qtde_estoque = estoque[i]\n",
    "    print(\"Temos {} unidades de {} no estoque\".format(qtde_estoque, produto))\n",
    "else:\n",
    "    print(\"{} não existe no estoque.\".format(produto))"
   ]
  },
  {
   "cell_type": "code",
   "execution_count": null,
   "id": "dc189fc3",
   "metadata": {},
   "outputs": [],
   "source": []
  },
  {
   "cell_type": "code",
   "execution_count": null,
   "id": "012f8c4a",
   "metadata": {},
   "outputs": [],
   "source": []
  }
 ],
 "metadata": {
  "kernelspec": {
   "display_name": "Python 3 (ipykernel)",
   "language": "python",
   "name": "python3"
  },
  "language_info": {
   "codemirror_mode": {
    "name": "ipython",
    "version": 3
   },
   "file_extension": ".py",
   "mimetype": "text/x-python",
   "name": "python",
   "nbconvert_exporter": "python",
   "pygments_lexer": "ipython3",
   "version": "3.9.13"
  }
 },
 "nbformat": 4,
 "nbformat_minor": 5
}
