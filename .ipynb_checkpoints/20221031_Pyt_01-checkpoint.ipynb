{
 "cells": [
  {
   "cell_type": "code",
   "execution_count": null,
   "id": "f53c35eb",
   "metadata": {},
   "outputs": [],
   "source": []
  },
  {
   "cell_type": "code",
   "execution_count": 17,
   "id": "06258300",
   "metadata": {},
   "outputs": [
    {
     "name": "stdout",
     "output_type": "stream",
     "text": [
      "O funcionário 1 ganhou 100.0 de bônus\n",
      "O funcionário 2 ganhou 0 de bônus\n",
      "O funcionário 3 ganhou 405.0 de bônus\n"
     ]
    }
   ],
   "source": [
    "#CÁLCULO DE BÔNUS\n",
    "\n",
    "vendas_funcionario1 = 1000\n",
    "vendas_funcionario2 = 770\n",
    "vendas_funcionario3 = 2700\n",
    "\n",
    "if vendas_funcionario1 >= 1000:\n",
    "    if vendas_funcionario1 >= 2000:\n",
    "        bonus=0.15*vendas_funcionario1\n",
    "    else:\n",
    "        bonus=vendas_funcionario1*0.1\n",
    "else:\n",
    "    bonus=0\n",
    "print(\"O funcionário 1 ganhou {} de bônus\".format(bonus))\n",
    "\n",
    "if vendas_funcionario2 >= 1000:\n",
    "    if vendas_funcionario2 >= 2000:\n",
    "        bonus=0.15*vendas_funcionario2\n",
    "    else:\n",
    "        bonus=vendas_funcionario2*0.1\n",
    "else:\n",
    "    bonus=0\n",
    "print(\"O funcionário 2 ganhou {} de bônus\".format(bonus))\n",
    "\n",
    "#pode ser feito de outra forma\n",
    "\n",
    "if vendas_funcionario3 >= 2000:\n",
    "    bonus=0.15*vendas_funcionario3\n",
    "elif vendas_funcionario3 >= 1000:\n",
    "    bonus=0.1*vendas_funcionario3\n",
    "else:\n",
    "    bonus=0\n",
    "print(\"O funcionário 3 ganhou {} de bônus\".format(bonus))\n",
    "      "
   ]
  },
  {
   "cell_type": "code",
   "execution_count": 9,
   "id": "363c5e37",
   "metadata": {},
   "outputs": [
    {
     "name": "stdout",
     "output_type": "stream",
     "text": [
      "O bonus do funcionário 1 é de 150.0\n",
      "O funcionário 2 não ganhou bonus\n",
      "O bonus do funcionário 3 é de 315.0\n"
     ]
    }
   ],
   "source": [
    "vendas_func_1=1500\n",
    "vendas_func_2=700\n",
    "vendas_func_3=2100\n",
    "\n",
    "if vendas_func_1 >= 2000:\n",
    "    bonus_func_1 = vendas_func_1 * 0.15\n",
    "    print(\"O bonus do funcionário 1 é de {}\".format(bonus_func_1))\n",
    "elif vendas_func_1 >= 1000:\n",
    "    bonus_func_1 = vendas_func_1 * 0.10\n",
    "    print(\"O bonus do funcionário 1 é de {}\".format(bonus_func_1))\n",
    "else:\n",
    "    print(\"O funcionário 1 não ganhou bonus\")\n",
    "\n",
    "if vendas_func_2 >= 2000:\n",
    "    bonus_func_2 = vendas_func_2 * 0.15\n",
    "    print(\"O bonus do funcionário 2 é de {}\".format(bonus_func_2))\n",
    "elif vendas_func_2 >= 1000:\n",
    "    bonus_func_2 = vendas_func_2 * 0.10\n",
    "    print(\"O bonus do funcionário 1 é de {}\".format(bonus_func_2))\n",
    "else:\n",
    "    print(\"O funcionário 2 não ganhou bonus\")\n",
    "    \n",
    "if vendas_func_3 >= 2000:\n",
    "    bonus_func_3 = vendas_func_3 * 0.15\n",
    "    print(\"O bonus do funcionário 3 é de {}\".format(bonus_func_3))\n",
    "elif vendas_func_3 >= 1000:\n",
    "    bonus_func_3 = vendas_func_3 * 0.10\n",
    "    print(\"O bonus do funcionário 3 é de {}\".format(bonus_func_3))\n",
    "else:\n",
    "    print(\"O funcionário 3 não ganhou bonus\")"
   ]
  },
  {
   "cell_type": "code",
   "execution_count": 8,
   "id": "c09d2a53",
   "metadata": {
    "scrolled": true
   },
   "outputs": [
    {
     "name": "stdout",
     "output_type": "stream",
     "text": [
      "Qual o produto? suco\n",
      "Qual a categoria do produto? bebidas\n",
      "Qual a quantidade do produto? 12\n",
      "Solicitar suco à equipe de compras, temos apenas 12 unidades em estoque.\n"
     ]
    }
   ],
   "source": [
    "#CONTROLE DE ESTOQUE\n",
    "\n",
    "produto=input(\"Qual o produto? \")\n",
    "categoria=input(\"Qual a categoria do produto? \")\n",
    "qtde=input(\"Qual a quantidade do produto? \")\n",
    "\n",
    "if produto and categoria and qtde:\n",
    "    qtde = int(qtde)\n",
    "    if categoria == \"bebidas\":\n",
    "        if qtde < 75:\n",
    "            print(\"Solicitar {} à equipe de compras, temos apenas {} unidades em estoque.\".format(produto, qtde))\n",
    "        else:\n",
    "            print(\"Quantidade suficiente do produto em estoque.\")\n",
    "    elif categoria == \"limpeza\":\n",
    "        if qtde < 30:\n",
    "            print(\"Solicitar {} à equipe de compras, temos apenas {} unidades em estoque.\".format(produto, qtde))\n",
    "        else:\n",
    "            print(\"Quantidade suficiente do produto em estoque.\")\n",
    "    elif categoria == \"alimentos\":\n",
    "        if qtde < 50:\n",
    "            print(\"Solicitar {} à equipe de compras, temos apenas {} unidades em estoque.\".format(produto, qtde))\n",
    "        else:\n",
    "            print(\"Quantidade suficiente do produto em estoque.\")\n",
    "else:\n",
    "    print(\"Preencha todas as informações\")\n"
   ]
  },
  {
   "cell_type": "code",
   "execution_count": 9,
   "id": "30d6b456",
   "metadata": {},
   "outputs": [
    {
     "name": "stdout",
     "output_type": "stream",
     "text": [
      "Digite seu CPF.  012.012.012-00 \n",
      "01201201200\n"
     ]
    }
   ],
   "source": [
    "#CADASTRO DE CPF\n",
    "\n",
    "cpf=input(\"Digite seu CPF. \")\n",
    "\n",
    "cpf = cpf.strip()  #tirar espaços no início e no fim\n",
    "cpf = cpf.replace(\".\",\"\")  #tirar os pontos\n",
    "cpf = cpf.replace(\"-\",\"\")  #tirar os traços\n",
    "\n",
    "if len(cpf)==11 and cpf.isnumeric():\n",
    "    print(cpf)\n",
    "else:\n",
    "    print(\"Digite seu CPF corretamente. Digite apenas números\")"
   ]
  },
  {
   "cell_type": "code",
   "execution_count": 2,
   "id": "379d025c",
   "metadata": {},
   "outputs": [
    {
     "name": "stdout",
     "output_type": "stream",
     "text": [
      "Digite seu nome: Denislene\n",
      "Digite seu e-mail: denislene.mtl@gmail.com\n",
      "Cadastro concluído\n"
     ]
    }
   ],
   "source": [
    "#CADASTRO DE E-MAIL\n",
    "\n",
    "nome=input(\"Digite seu nome: \")\n",
    "email=input(\"Digite seu e-mail: \")\n",
    "\n",
    "if nome and email:\n",
    "    pos_a = email.find(\"@\")\n",
    "    servidor = email[pos_a:]\n",
    "    if pos_a != -1 and \".\" in servidor:\n",
    "        print(\"Cadastro concluído\")\n",
    "    else:\n",
    "        print(\"E-mail inválido\")\n",
    "else:\n",
    "    print(\"Digite seu nome e seu e-mail corretamente.\")"
   ]
  },
  {
   "cell_type": "code",
   "execution_count": 7,
   "id": "b46bad1c",
   "metadata": {},
   "outputs": [
    {
     "name": "stdout",
     "output_type": "stream",
     "text": [
      "Insra o nome do produto em letra minúscula: teclado\n",
      "Temos 70 unidades de teclado no estoque\n"
     ]
    }
   ],
   "source": [
    "#VERIFICANDO ITEM EM UMA LISTA\n",
    "\n",
    "produtos = [\"tv\",\"celular\",\"tablet\",\"mouse\",\"teclado\",\"geladeira\",\"forno\"]\n",
    "estoque = [100, 150, 100, 120, 70, 180, 80]\n",
    "\n",
    "produto = input(\"Insra o nome do produto em letra minúscula: \")\n",
    "if produto in produtos:\n",
    "    i = produtos.index(produto)\n",
    "    qtde_estoque = estoque[i]\n",
    "    print(\"Temos {} unidades de {} no estoque\".format(qtde_estoque, produto))\n",
    "else:\n",
    "    print(\"{} não existe no estoque.\".format(produto))"
   ]
  },
  {
   "cell_type": "code",
   "execution_count": 9,
   "id": "dc189fc3",
   "metadata": {},
   "outputs": [
    {
     "name": "stdout",
     "output_type": "stream",
     "text": [
      "O melhor mês do ano foi nov com 49051 vendas\n",
      "O pior mês do ano foi dez com 9650 vendas\n",
      "Faturamento Total: R$261486.00\n",
      "O melhor mês representou 18.8% das vendas do ano todo.\n",
      "[25000, 29000, 22200, 17750, 15870, 19900, 19850, 20120, 17540, 15555, 49051, 9650]\n",
      "[49051, 29000, 25000]\n"
     ]
    }
   ],
   "source": [
    "#Faturamento do melhor e do pior mês do ano.\n",
    "\n",
    "meses = ['jan', 'fev', 'mar', 'abr', 'mai', 'jun', 'jul', 'ago', 'set', 'out', 'nov', 'dez']\n",
    "vendas_1sem = [25000, 29000, 22200, 17750, 15870, 19900]\n",
    "vendas_2sem = [19850, 20120, 17540, 15555, 49051, 9650]\n",
    "\n",
    "vendas_1sem.extend(vendas_2sem)\n",
    "maior_valor = max(vendas_1sem)\n",
    "menor_valor = min(vendas_1sem)\n",
    "i_maior_valor = vendas_1sem.index(maior_valor)\n",
    "i_menor_valor = vendas_1sem.index(menor_valor)\n",
    "\n",
    "print(\"O melhor mês do ano foi {} com {} vendas\".format(meses[i_maior_valor], maior_valor))\n",
    "print(\"O pior mês do ano foi {} com {} vendas\".format(meses[i_menor_valor], menor_valor))\n",
    "\n",
    "fat_total = sum(vendas_1sem)\n",
    "print(\"Faturamento Total: R${:.2f}\".format(fat_total))\n",
    "\n",
    "percentual = maior_valor / fat_total\n",
    "print(\"O melhor mês representou {:.1%} das vendas do ano todo.\".format(percentual))\n",
    "\n",
    "\n",
    "#TOP 3 melhores meses\n",
    "\n",
    "top3 = []\n",
    "print(vendas_1sem)\n",
    "\n",
    "maior_valor = max(vendas_1sem)\n",
    "top3.append(maior_valor)\n",
    "vendas_1sem.remove(maior_valor)\n",
    "\n",
    "maior_valor = max(vendas_1sem)\n",
    "top3.append(maior_valor)\n",
    "vendas_1sem.remove(maior_valor)\n",
    "\n",
    "maior_valor = max(vendas_1sem)\n",
    "top3.append(maior_valor)\n",
    "print(top3)"
   ]
  },
  {
   "cell_type": "code",
   "execution_count": 1,
   "id": "012f8c4a",
   "metadata": {},
   "outputs": [
    {
     "name": "stdout",
     "output_type": "stream",
     "text": [
      "Entrer son username : Denis\n",
      "Entrer son password : d123\n",
      "Vous êtes connecté\n"
     ]
    }
   ],
   "source": [
    "# LOGIN\n",
    "\n",
    "admins=[\"Sonia\",\"Mario\",\"Denis\",\"Wafa\"]\n",
    "motpasse=[\"s123\",\"m123\",\"d123\",\"w123\"]\n",
    "user=input(\"Entrer son username : \")\n",
    "if user in admins:\n",
    "    password=input(\"Entrer son password : \")\n",
    "    if password == motpasse[admins.index(user)]:\n",
    "        print(\"Vous êtes connecté\")\n",
    "    else:\n",
    "        print(\"Password incorrect\")\n",
    "else:\n",
    "    print(\"Le username n'existe pas\")"
   ]
  },
  {
   "cell_type": "code",
   "execution_count": 22,
   "id": "2630e733",
   "metadata": {},
   "outputs": [
    {
     "name": "stdout",
     "output_type": "stream",
     "text": [
      "[[10000, 2500], [50000, 44.0], [7000, 1200], [20000, 1500], [5800, 1300], [7200, 2500], [200, 800], [3300, 700], [1900, 400]]\n",
      "Vamos pagar R$200,000.0 a mais de imposto.\n"
     ]
    }
   ],
   "source": [
    "# MUDANÇA DE CARGA TRIBUTÁRIA\n",
    "\n",
    "produtos = [\"computador\",\n",
    "            \"livro\",\n",
    "            \"tablet\",\n",
    "            \"celular\",\n",
    "            \"tv\",\n",
    "            \"ar condicionado\",\n",
    "            \"alexa\",\n",
    "            \"máquina de café\",\n",
    "            \"kindle\"]\n",
    "produtos_ecommerce = [\n",
    "    [10000, 2500],\n",
    "    [50000, 40],\n",
    "    [7000, 1200],\n",
    "    [20000, 1500],\n",
    "    [5800, 1300],\n",
    "    [7200, 2500],\n",
    "    [200, 800],\n",
    "    [3300, 700],\n",
    "    [1900, 400]\n",
    "]\n",
    "\n",
    "if \"livro\" in produtos:\n",
    "    i_livro = produtos.index(\"livro\")\n",
    "    total_antigo = produtos_ecommerce[i_livro][0]*produtos_ecommerce[i_livro][1]\n",
    "    produtos_ecommerce[i_livro][1] = (produtos_ecommerce[i_livro][1])*1.10\n",
    "    novo_total = produtos_ecommerce[i_livro][0]*produtos_ecommerce[i_livro][1]\n",
    "    print(produtos_ecommerce)\n",
    "    print(\"Vamos pagar R${:,} a mais de imposto.\".format(novo_total-total_antigo))\n",
    "    \n",
    "    "
   ]
  },
  {
   "cell_type": "code",
   "execution_count": null,
   "id": "a8abd765",
   "metadata": {},
   "outputs": [],
   "source": []
  },
  {
   "cell_type": "code",
   "execution_count": null,
   "id": "59aa9aeb",
   "metadata": {},
   "outputs": [],
   "source": []
  }
 ],
 "metadata": {
  "kernelspec": {
   "display_name": "Python 3 (ipykernel)",
   "language": "python",
   "name": "python3"
  },
  "language_info": {
   "codemirror_mode": {
    "name": "ipython",
    "version": 3
   },
   "file_extension": ".py",
   "mimetype": "text/x-python",
   "name": "python",
   "nbconvert_exporter": "python",
   "pygments_lexer": "ipython3",
   "version": "3.9.13"
  }
 },
 "nbformat": 4,
 "nbformat_minor": 5
}
