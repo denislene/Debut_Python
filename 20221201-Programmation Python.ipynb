{
 "cells": [
  {
   "cell_type": "markdown",
   "id": "1e9fc6c4",
   "metadata": {},
   "source": [
    "## Exercice 1"
   ]
  },
  {
   "cell_type": "code",
   "execution_count": 19,
   "id": "880cf108",
   "metadata": {},
   "outputs": [
    {
     "name": "stdout",
     "output_type": "stream",
     "text": [
      "Donner le nombre de lignes de la matrice A : 3\n",
      "Donner le nombre de colones de la matrice A : 3\n",
      "Donner le nombre de lignes de la matrice B : 3\n",
      "Donner le nombre de colones de la matrice B : 3\n"
     ]
    }
   ],
   "source": [
    "# 1- Demander les dimensions de A et B\n",
    "\n",
    "dim_A_lin=int(input(\"Donner le nombre de lignes de la matrice A : \"))\n",
    "dim_A_col=int(input(\"Donner le nombre de colones de la matrice A : \"))\n",
    "dim_B_lin=int(input(\"Donner le nombre de lignes de la matrice B : \"))\n",
    "dim_B_col=int(input(\"Donner le nombre de colones de la matrice B : \"))"
   ]
  },
  {
   "cell_type": "code",
   "execution_count": 20,
   "id": "575f3faf",
   "metadata": {},
   "outputs": [
    {
     "name": "stdout",
     "output_type": "stream",
     "text": [
      "[[1. 0. 0.]\n",
      " [0. 1. 0.]\n",
      " [0. 0. 1.]]\n"
     ]
    }
   ],
   "source": [
    "# 2- Creer une matrice identité A - tester si la matrice est carré\n",
    "\n",
    "import numpy as np\n",
    "if dim_A_lin == dim_A_col:\n",
    "    A_ident=np.eye(dim_A_lin)\n",
    "    print(A_ident)\n",
    "else:\n",
    "    print(\"Pas possible de creer une matrice identité non carré. \\nLe nombre de lignes doit être égal au nombre de colones\")"
   ]
  },
  {
   "cell_type": "code",
   "execution_count": 21,
   "id": "bc1b021a",
   "metadata": {},
   "outputs": [
    {
     "name": "stdout",
     "output_type": "stream",
     "text": [
      "[[2 2 2]\n",
      " [7 8 7]\n",
      " [9 3 3]]\n"
     ]
    }
   ],
   "source": [
    "# 3 - Creer une matrice aléatoire B\n",
    "\n",
    "B=np.random.randint(10, size=((dim_B_lin),(dim_B_col)))\n",
    "print(B)"
   ]
  },
  {
   "cell_type": "code",
   "execution_count": 22,
   "id": "905f5813",
   "metadata": {},
   "outputs": [
    {
     "name": "stdout",
     "output_type": "stream",
     "text": [
      "C= [[3.0, 2.0, 2.0], [7.0, 9.0, 7.0], [9.0, 3.0, 4.0]]\n"
     ]
    }
   ],
   "source": [
    "# 4 - Sommer les deux matrices A_ident et B\n",
    "\n",
    "if (dim_A_lin==dim_B_lin) and (dim_A_col==dim_B_col):\n",
    "    C=[]\n",
    "    for i in range(dim_A_lin):\n",
    "        sm=[]\n",
    "        for j in range(dim_A_col):\n",
    "            elemento=A_ident[i][j]+B[i][j] \n",
    "            sm.append(elemento)\n",
    "        C.append(sm)\n",
    "    print(\"C=\",C)\n",
    "else:\n",
    "    print(\"Pas possible sommer des matrices de formats differents.\")\n",
    "    "
   ]
  },
  {
   "cell_type": "markdown",
   "id": "9746c438",
   "metadata": {},
   "source": [
    "## Exercice 2"
   ]
  },
  {
   "cell_type": "code",
   "execution_count": 23,
   "id": "c0095390",
   "metadata": {},
   "outputs": [
    {
     "name": "stdout",
     "output_type": "stream",
     "text": [
      "[[2, 5, -3, -2], [-2, -3, 2, -5], [1, 3, -2, 2], [-1, -6, 4, 3]]\n"
     ]
    }
   ],
   "source": [
    "# Definir la matrice A1 et afficher les éléments de la matrice A1\n",
    "\n",
    "A1 = [[2,5,-3,-2],[-2,-3,2,-5],[1,3,-2,2],[-1,-6,4,3]]\n",
    "print(A1)"
   ]
  },
  {
   "cell_type": "code",
   "execution_count": 24,
   "id": "4b009bf9",
   "metadata": {},
   "outputs": [
    {
     "name": "stdout",
     "output_type": "stream",
     "text": [
      "[[2, 5, 0, 0], [0, 0, 2, 0], [1, 3, 0, 2], [0, 0, 4, 3]]\n"
     ]
    }
   ],
   "source": [
    "# Remplacer les éléments négatifs de A1 para zéros et afficher la nouveau matrice\n",
    "\n",
    "for i in range(len(A1)):\n",
    "    for j in range(len(A1[0])):\n",
    "        if A1[i][j] < 0:\n",
    "            A1[i][j]=0\n",
    "print(A1)"
   ]
  }
 ],
 "metadata": {
  "kernelspec": {
   "display_name": "Python 3 (ipykernel)",
   "language": "python",
   "name": "python3"
  },
  "language_info": {
   "codemirror_mode": {
    "name": "ipython",
    "version": 3
   },
   "file_extension": ".py",
   "mimetype": "text/x-python",
   "name": "python",
   "nbconvert_exporter": "python",
   "pygments_lexer": "ipython3",
   "version": "3.9.13"
  }
 },
 "nbformat": 4,
 "nbformat_minor": 5
}
