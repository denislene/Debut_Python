{
 "cells": [
  {
   "cell_type": "code",
   "execution_count": null,
   "id": "f53c35eb",
   "metadata": {},
   "outputs": [],
   "source": []
  },
  {
   "cell_type": "code",
   "execution_count": null,
   "id": "06258300",
   "metadata": {},
   "outputs": [],
   "source": []
  },
  {
   "cell_type": "code",
   "execution_count": 14,
   "id": "c09d2a53",
   "metadata": {
    "scrolled": true
   },
   "outputs": [
    {
     "name": "stdout",
     "output_type": "stream",
     "text": [
      "Qual o produto? guraná\n",
      "Qual a categoria do produto? bebidas\n",
      "Qual a quantidade do produto? 14\n",
      "Solicitar guraná à equipe de compras, temos apenas 14 unidades em estoque.\n"
     ]
    }
   ],
   "source": [
    "#CONTROLE DE ESTOQUE\n",
    "\n",
    "produto=input(\"Qual o produto? \")\n",
    "categoria=input(\"Qual a categoria do produto? \")\n",
    "qtde=input(\"Qual a quantidade do produto? \")\n",
    "\n",
    "if produto and categoria and qtde:\n",
    "    qtde = int(qtde)\n",
    "    if categoria == \"bebidas\":\n",
    "        if qtde < 75:\n",
    "            print(\"Solicitar {} à equipe de compras, temos apenas {} unidades em estoque.\".format(produto, qtde))\n",
    "        else:\n",
    "            print(\"Quantidade suficiente do produto em estoque.\")\n",
    "    elif categoria == \"limpeza\":\n",
    "        if qtde < 30:\n",
    "            print(\"Solicitar {} à equipe de compras, temos apenas {} unidades em estoque.\".format(produto, qtde))\n",
    "        else:\n",
    "            print(\"Quantidade suficiente do produto em estoque.\")\n",
    "    elif categoria == \"alimentos\":\n",
    "        if qtde < 50:\n",
    "            print(\"Solicitar {} à equipe de compras, temos apenas {} unidades em estoque.\".format(produto, qtde))\n",
    "        else:\n",
    "            print(\"Quantidade suficiente do produto em estoque.\")\n",
    "else:\n",
    "    print(\"Preencha todas as informações\")\n"
   ]
  },
  {
   "cell_type": "code",
   "execution_count": null,
   "id": "30d6b456",
   "metadata": {},
   "outputs": [],
   "source": []
  },
  {
   "cell_type": "code",
   "execution_count": null,
   "id": "379d025c",
   "metadata": {},
   "outputs": [],
   "source": []
  }
 ],
 "metadata": {
  "kernelspec": {
   "display_name": "Python 3 (ipykernel)",
   "language": "python",
   "name": "python3"
  },
  "language_info": {
   "codemirror_mode": {
    "name": "ipython",
    "version": 3
   },
   "file_extension": ".py",
   "mimetype": "text/x-python",
   "name": "python",
   "nbconvert_exporter": "python",
   "pygments_lexer": "ipython3",
   "version": "3.9.13"
  }
 },
 "nbformat": 4,
 "nbformat_minor": 5
}
