{
 "cells": [
  {
   "cell_type": "markdown",
   "id": "c02dd92c",
   "metadata": {},
   "source": [
    "# Problemas com Matrizes"
   ]
  },
  {
   "cell_type": "code",
   "execution_count": 23,
   "id": "7cae9e3a",
   "metadata": {},
   "outputs": [],
   "source": [
    "A=[[9,8,7],[6,5,4]]\n",
    "B=[[3,2,1],[0,9,8]]\n",
    "A1=[[1,2,3],[5,1,0]]\n",
    "B1=[[2,3],[1,0],[2,1]]"
   ]
  },
  {
   "cell_type": "markdown",
   "id": "4fe6259c",
   "metadata": {},
   "source": [
    "### Função que retorna a ordem da matriz \n",
    "- envia uma matriz como parâmetro - exemplo A=[[0,2,4],[2,4,0]]\n",
    "- retorna um vetor com os números de linhas e de colunas da matriz enviada - exemplo (2,3)"
   ]
  },
  {
   "cell_type": "code",
   "execution_count": 2,
   "id": "3c19f86f",
   "metadata": {},
   "outputs": [],
   "source": [
    "def ordem_matriz(matriz):\n",
    "    # fazer validação prévia da matriz recebida\n",
    "    linhas=len(matriz)\n",
    "    colunas=len(matriz[0])\n",
    "    return linhas,colunas"
   ]
  },
  {
   "cell_type": "code",
   "execution_count": 3,
   "id": "1a9b6b17",
   "metadata": {},
   "outputs": [
    {
     "data": {
      "text/plain": [
       "(2, 3)"
      ]
     },
     "execution_count": 3,
     "metadata": {},
     "output_type": "execute_result"
    }
   ],
   "source": [
    "ordem_matriz(A)"
   ]
  },
  {
   "cell_type": "markdown",
   "id": "2908e344",
   "metadata": {},
   "source": [
    "### Adição e Subtração de duas matrizes de ordens iguais"
   ]
  },
  {
   "cell_type": "code",
   "execution_count": 4,
   "id": "4eb4872c",
   "metadata": {},
   "outputs": [
    {
     "data": {
      "text/plain": [
       "True"
      ]
     },
     "execution_count": 4,
     "metadata": {},
     "output_type": "execute_result"
    }
   ],
   "source": [
    "# Verificar se a ordem das matrizes são iguais\n",
    "ordem_matriz(A)==ordem_matriz(B)"
   ]
  },
  {
   "cell_type": "code",
   "execution_count": 5,
   "id": "06ffe064",
   "metadata": {},
   "outputs": [
    {
     "name": "stdout",
     "output_type": "stream",
     "text": [
      "C= [[12, 10, 8], [6, 14, 12]]\n"
     ]
    }
   ],
   "source": [
    "# define as variáveis de quantidade de linhas e de colunas a serem percorridas pelo looping\n",
    "lin=ordem_matriz(A)[0]\n",
    "col=ordem_matriz(A)[1]\n",
    "\n",
    "# Cálculo de adição de matrizes\n",
    "\n",
    "C=[] # inicializa um vetor C vazio\n",
    "for i in range(lin):\n",
    "    G=[] # inicializa um vetor G vazio\n",
    "    for j in range(col):\n",
    "        elemento=A[i][j]+B[i][j] # calcula o elemento resultante da soma dos elementos de A e B\n",
    "        G.append(elemento) # adiciona o elemento no vetor, calcula o próximo e adiciona novamente...\n",
    "    C.append(G) # guarda os elementos calculados no for anterior e volta para calcular os elementos da segunda coluna\n",
    "print(\"C=\",C)"
   ]
  },
  {
   "cell_type": "code",
   "execution_count": 6,
   "id": "7a1373a3",
   "metadata": {},
   "outputs": [
    {
     "name": "stdout",
     "output_type": "stream",
     "text": [
      "Cs= [[6, 6, 6], [6, -4, -4]]\n"
     ]
    }
   ],
   "source": [
    "# Cálculo de subtração de matrizes\n",
    "\n",
    "Cs=[] # inicializa um vetor C vazio\n",
    "for i in range(lin):\n",
    "    Gs=[] # inicializa um vetor G vazio\n",
    "    for j in range(col):\n",
    "        elemento=A[i][j]-B[i][j] # calcula o elemento resultante da subtração dos elementos de A e B\n",
    "        Gs.append(elemento) # adiciona o elemento no vetor, calcula o próximo e adiciona novamente...\n",
    "    Cs.append(Gs) # guarda os elementos calculados no \"for\" anterior e volta para calcular os elementos da segunda coluna\n",
    "print(\"Cs=\",Cs)"
   ]
  },
  {
   "cell_type": "markdown",
   "id": "cfe31964",
   "metadata": {},
   "source": [
    "### Multiplicação de Matrizes"
   ]
  },
  {
   "cell_type": "code",
   "execution_count": 7,
   "id": "57d33ccc",
   "metadata": {},
   "outputs": [],
   "source": [
    "# Multiplicação de uma matriz por uma constante\n",
    "\n",
    "def constante_matriz(k):\n",
    "    D=[]\n",
    "    for i in range(lin):\n",
    "        d=[]\n",
    "        for j in range(col):\n",
    "            elem_k=k*A[i][j]\n",
    "            d.append(elem_k)\n",
    "            #print(d)\n",
    "        D.append(d)\n",
    "    return D"
   ]
  },
  {
   "cell_type": "code",
   "execution_count": 8,
   "id": "ae6514e1",
   "metadata": {},
   "outputs": [
    {
     "name": "stdout",
     "output_type": "stream",
     "text": [
      "D= [[81, 72, 63], [54, 45, 36]]\n"
     ]
    }
   ],
   "source": [
    "Resultado = constante_matriz(9)\n",
    "print(\"D=\",Resultado)\n"
   ]
  },
  {
   "cell_type": "code",
   "execution_count": 53,
   "id": "a09421af",
   "metadata": {},
   "outputs": [
    {
     "ename": "IndexError",
     "evalue": "list index out of range",
     "output_type": "error",
     "traceback": [
      "\u001b[1;31m---------------------------------------------------------------------------\u001b[0m",
      "\u001b[1;31mIndexError\u001b[0m                                Traceback (most recent call last)",
      "\u001b[1;32m~\\AppData\\Local\\Temp\\ipykernel_504\\3761814791.py\u001b[0m in \u001b[0;36m<module>\u001b[1;34m\u001b[0m\n\u001b[0;32m      6\u001b[0m         \u001b[0mvet_mult\u001b[0m\u001b[1;33m=\u001b[0m\u001b[1;33m[\u001b[0m\u001b[1;33m]\u001b[0m\u001b[1;33m\u001b[0m\u001b[1;33m\u001b[0m\u001b[0m\n\u001b[0;32m      7\u001b[0m         \u001b[1;32mfor\u001b[0m \u001b[0mj\u001b[0m \u001b[1;32min\u001b[0m \u001b[0mrange\u001b[0m\u001b[1;33m(\u001b[0m\u001b[0mlen\u001b[0m\u001b[1;33m(\u001b[0m\u001b[0mB1\u001b[0m\u001b[1;33m[\u001b[0m\u001b[1;36m0\u001b[0m\u001b[1;33m]\u001b[0m\u001b[1;33m)\u001b[0m\u001b[1;33m)\u001b[0m\u001b[1;33m:\u001b[0m\u001b[1;33m\u001b[0m\u001b[1;33m\u001b[0m\u001b[0m\n\u001b[1;32m----> 8\u001b[1;33m             \u001b[0mprod\u001b[0m\u001b[1;33m=\u001b[0m\u001b[1;33m(\u001b[0m\u001b[0mA1\u001b[0m\u001b[1;33m[\u001b[0m\u001b[0mi\u001b[0m\u001b[1;33m]\u001b[0m\u001b[1;33m[\u001b[0m\u001b[0mj\u001b[0m\u001b[1;33m]\u001b[0m\u001b[1;33m*\u001b[0m\u001b[0mB1\u001b[0m\u001b[1;33m[\u001b[0m\u001b[0mj\u001b[0m\u001b[1;33m]\u001b[0m\u001b[1;33m[\u001b[0m\u001b[0mi\u001b[0m\u001b[1;33m]\u001b[0m\u001b[1;33m)\u001b[0m\u001b[1;33m\u001b[0m\u001b[1;33m\u001b[0m\u001b[0m\n\u001b[0m\u001b[0;32m      9\u001b[0m             \u001b[0mvet_mult\u001b[0m\u001b[1;33m.\u001b[0m\u001b[0mappend\u001b[0m\u001b[1;33m(\u001b[0m\u001b[0mprod\u001b[0m\u001b[1;33m)\u001b[0m\u001b[1;33m\u001b[0m\u001b[1;33m\u001b[0m\u001b[0m\n\u001b[0;32m     10\u001b[0m             \u001b[0me\u001b[0m\u001b[1;33m=\u001b[0m\u001b[0msum\u001b[0m\u001b[1;33m(\u001b[0m\u001b[0mvet_mult\u001b[0m\u001b[1;33m)\u001b[0m\u001b[1;33m\u001b[0m\u001b[1;33m\u001b[0m\u001b[0m\n",
      "\u001b[1;31mIndexError\u001b[0m: list index out of range"
     ]
    }
   ],
   "source": [
    "# Multiplicação entre matrizes\n",
    "\n",
    "if ordem_matriz(A1)[1]==ordem_matriz(B1)[0]:\n",
    "    E=[]\n",
    "    for i in range(len(A1[1])):\n",
    "        vet_mult=[]\n",
    "        for j in range(len(B1[0])):\n",
    "            prod=(A1[i][j]*B1[j][i])\n",
    "            vet_mult.append(prod)\n",
    "            e=sum(vet_mult)\n",
    "        E.append(e)\n",
    "    \n",
    "else:\n",
    "    print(\"As matrizes não podem ser multiplicadas\")\n",
    "\n",
    "print(E)"
   ]
  },
  {
   "cell_type": "code",
   "execution_count": null,
   "id": "332a771b",
   "metadata": {},
   "outputs": [],
   "source": []
  },
  {
   "cell_type": "code",
   "execution_count": null,
   "id": "5a12b4e4",
   "metadata": {},
   "outputs": [],
   "source": []
  },
  {
   "cell_type": "code",
   "execution_count": null,
   "id": "d52ea0ae",
   "metadata": {},
   "outputs": [],
   "source": []
  }
 ],
 "metadata": {
  "kernelspec": {
   "display_name": "Python 3 (ipykernel)",
   "language": "python",
   "name": "python3"
  },
  "language_info": {
   "codemirror_mode": {
    "name": "ipython",
    "version": 3
   },
   "file_extension": ".py",
   "mimetype": "text/x-python",
   "name": "python",
   "nbconvert_exporter": "python",
   "pygments_lexer": "ipython3",
   "version": "3.9.13"
  }
 },
 "nbformat": 4,
 "nbformat_minor": 5
}
